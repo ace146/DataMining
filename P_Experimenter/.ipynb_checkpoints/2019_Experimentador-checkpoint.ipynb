{
 "cells": [
  {
   "cell_type": "markdown",
   "metadata": {},
   "source": [
    "<img style=\"float:left\" width=\"70%\" src=\"pics/escudo_COLOR_1L_DCHA.png\">\n",
    "<img style=\"float:right\" width=\"15%\" src=\"pics/PythonLogo.svg\">\n",
    "<br style=\"clear:both;\">\n",
    "\n",
    "\n",
    "# Minería de datos\n",
    "\n",
    "<h2 style=\"display: inline-block; padding: 4mm; padding-left: 2em; background-color: navy; line-height: 1.3em; color: white; border-radius: 10px;\">Práctica 3: Experimentador 1.0</h2>\n",
    "\n",
    "## Docentes\n",
    "\n",
    " - José Francisco Diez Pastor"
   ]
  },
  {
   "cell_type": "code",
   "execution_count": 126,
   "metadata": {},
   "outputs": [
    {
     "name": "stderr",
     "output_type": "stream",
     "text": [
      "UsageError: Line magic function `%` not found.\n"
     ]
    }
   ],
   "source": [
    "% matplotlib inline"
   ]
  },
  {
   "cell_type": "markdown",
   "metadata": {},
   "source": [
    "<a id=\"index\"></a>\n",
    "## Tabla de contenidos del notebook\n",
    "\n",
    "1. [Experimentadores en Minería de Datos](#experimentadores)\n",
    "2. [Nuestro experimenter](#nuestro)\n",
    "    - [Definición general del experimento](#general)\n",
    "    - [Definición de conjuntos de datos](#conjuntos)\n",
    "    - [Definición de algoritmos](#algoritmos)\n",
    "    - [Definición de la presentación](#presentación)\n",
    "3. [Tareas de la práctica](#tareas)\n",
    "\n",
    "4. [Tareas opcionales](#opcionales)"
   ]
  },
  {
   "cell_type": "markdown",
   "metadata": {},
   "source": [
    "# Experimentadores en Minería de Datos <a id=\"experimentadores\"></a><a href=\"#index\"><i class=\"fa fa-list-alt\" aria-hidden=\"true\"></i></a>"
   ]
  },
  {
   "cell_type": "markdown",
   "metadata": {},
   "source": [
    "Sklearn es una biblioteca de programación diseñada para aplicar métodos de minería de datos tanto a nivel de investigación como a nivel industrial.\n",
    "\n",
    "Está pensada para ser fácil de usar desde el punto de vista de un desarrollador y poder ser integrada con otros artefactos software como por ejemplo un servidor.\n",
    "\n",
    "Sin embargo para realizar un experimento en Sklearn necesitamos utilizar mucho código:\n",
    "- Cargar los datasets.\n",
    "- Aplicar los métodos usando validación cruzada u otra técnica de evaluación.\n",
    "    - Si usamos preprocesamientos u optimización de parámetros el desarrollo del código necesita bastantes conocimientos de la biblioteca Sklearn.\n",
    "- Mostrar los resultados en forma de tabla o de manera gráfica."
   ]
  },
  {
   "cell_type": "markdown",
   "metadata": {},
   "source": [
    "Esto no ocurre en otras herramientas más centradas en el usuario.\n",
    "\n",
    "Fuera del entorno Sklearn y el entorno Python tenemos por ejemplo Weka, desarrollada en Java.\n",
    "\n",
    "\n",
    "A continuación tenemos una captura del experimentador de Weka, vemos que se pueden añadir conjuntos de datos pulsando al botón *\"add dataset\"* o que se pueden añadir algoritmos pulsando en el botón *\"add classifier**.\n",
    "\n",
    "Permite configurar el número de folds o el fichero de salida donde se guardarán los resultados.\n",
    "\n",
    "![alt text](pics/experimenter1.png \"Logo Title Text 1\")\n",
    "\n",
    "Al ejecutar todos los experimentos nos muestra una columna por cada algoritmo y una fila por cada dataset.\n",
    "\n",
    "Tiene también opciones para elegir la medida de rendimiento: accuracy, true positive score ...\n",
    "\n",
    "![alt text](pics/experimenter2.png \"Logo Title Text 1\")"
   ]
  },
  {
   "cell_type": "markdown",
   "metadata": {},
   "source": [
    "Luego las limitaciones de Weka están a la hora de utilizar algoritmos de minería de datos dentro de otro programa, usarlos desde un servidor web, un proceso automático etc.\n",
    "\n",
    "Aunque es posible, la herramienta está principalmente centrada en el usuario, no en el desarrollador.\n",
    "\n",
    "------------------"
   ]
  },
  {
   "cell_type": "markdown",
   "metadata": {},
   "source": [
    "En el ecosistema de Sklearn tenemos por ejemplo **SciKit-Learn Laboratory** o **SKLL** que es un módulo desarrollado por terceros (no es parte oficial del proyecto SciKit-Learn) y simplifica la realización de experimentos.\n",
    "\n",
    "Permite definir ficheros de configuración como el siguiente:\n",
    "\n",
    "\n",
    "```\n",
    "[General]\n",
    "experiment_name = Iris_CV\n",
    "task = cross_validate\n",
    "\n",
    "[Input]\n",
    "# this could also be an absolute path instead (and must be if you're not\n",
    "# running things in local mode)\n",
    "train_directory = train\n",
    "featuresets = [[\"example_iris_features\"]]\n",
    "# there is only set of features to try with one feature file in it here.\n",
    "featureset_names = [\"example_iris\"]\n",
    "learners = [\"RandomForestClassifier\", \"SVC\", \"LogisticRegression\", \"MultinomialNB\"]\n",
    "suffix = .jsonlines\n",
    "\n",
    "[Tuning]\n",
    "grid_search = true\n",
    "objectives = ['f1_score_micro']\n",
    "\n",
    "[Output]\n",
    "# again, these can be absolute paths\n",
    "results = output\n",
    "log = output\n",
    "predictions = output\n",
    "```\n",
    "\n",
    "Que permiten la realización de un experimento únicamente con un comando python:\n",
    "\n",
    "```bash\n",
    "run_experiment experimento.cfg\n",
    "\n",
    "```"
   ]
  },
  {
   "cell_type": "markdown",
   "metadata": {},
   "source": [
    "#### General\n",
    "- experiment_name: Permite dar un nombre a nuestro experimento.\n",
    "- task: Puede valer cross_validate, evaluate, predict, train, learning_curve.\n",
    "\n",
    "#### Inputs\n",
    " - Permite definir los conjuntos de datos y los modelos a utilizar\n",
    " \n",
    "#### Tuning\n",
    "- Permite especificar la medida a optimizar y el método de búsqueda.\n",
    "\n",
    "#### Output\n",
    "- Permite configurar las salidas de los experimentos"
   ]
  },
  {
   "cell_type": "markdown",
   "metadata": {},
   "source": [
    "# Nuestro Experimentador <a id=\"nuestro\"></a><a href=\"#index\"><i class=\"fa fa-list-alt\" aria-hidden=\"true\"></i></a>"
   ]
  },
  {
   "cell_type": "markdown",
   "metadata": {},
   "source": [
    "En esta práctica vamos a hacer nuestro propio experimentador, un SciKit-Learn Laboratory simplificado, que nos permita definir los conjuntos de datos y los métodos y nos permita ejecutar el experimento de manera sencilla.\n",
    "\n",
    "El desarrollo del curso 2018-2019 es el primero, pero puede que en el futuro haya más versiones.\n",
    "\n",
    "Lo ideal sería definir los experimentos como un fichero de configuración como hace SciKit-Learn Laboratory, pero dado que esto es un prototipo, por simplicidad vamos a usar diccionarios de Python. Aunque facilmente se podrían guardar los diccionarios de Python como un XML o un JSON."
   ]
  },
  {
   "cell_type": "markdown",
   "metadata": {},
   "source": [
    "Nuestro experimentos se va a configurar con varios diccionarios:\n",
    "- general\n",
    "- datasets\n",
    "- algoritmos\n",
    "- output"
   ]
  },
  {
   "cell_type": "markdown",
   "metadata": {},
   "source": [
    "## Definición general del experimento <a id=\"general\"></a><a href=\"#index\"><i class=\"fa fa-list-alt\" aria-hidden=\"true\"></i></a>\n",
    "\n",
    "En la definición general del experimento solo se indica el identificador del experimento y el número de folds de la validación cruzada."
   ]
  },
  {
   "cell_type": "code",
   "execution_count": 127,
   "metadata": {},
   "outputs": [],
   "source": [
    "general = {\n",
    "    \"ID\":\"Experimento1\",\n",
    "    \"N_FOLDS\":5\n",
    "}"
   ]
  },
  {
   "cell_type": "markdown",
   "metadata": {},
   "source": [
    "## Definición de conjuntos de datos <a id=\"conjunto\"></a><a href=\"#index\"><i class=\"fa fa-list-alt\" aria-hidden=\"true\"></i></a>\n",
    "\n",
    "En la versión de este año **solo se ejecutarán experimentos sobre los datasets de ejemplo que trae Sklearn**.\n",
    "\n",
    "Aunque la sintaxis pueda estar preparada para expecificar conjuntos de datos externos, los conjuntos de datos externos se ignorarán.\n",
    "\n",
    "Sabemos que un conjunto de datos es externo porque tiene una extensión de fichero."
   ]
  },
  {
   "cell_type": "code",
   "execution_count": 128,
   "metadata": {},
   "outputs": [],
   "source": [
    "\n",
    "datasets = [\n",
    "    {\n",
    "        \"ID_DATA\":\"Iris\",\n",
    "        \"ORIGIN\":\"load_iris\",   # el nombre de la función que lo carga\n",
    "    },\n",
    "    {\n",
    "        \"ID_DATA\":\"Wine\",\n",
    "        \"ORIGIN\":\"load_wine\",   # el nombre de la función que lo carga\n",
    "    },\n",
    "    {\n",
    "        \"ID_DATA\":\"Noticias\",\n",
    "        \"ORIGIN\":\"noticias.csv\",   # el nombre del fichero. Se ignoran estos datasets este año\n",
    "    },\n",
    "    \n",
    "]"
   ]
  },
  {
   "cell_type": "markdown",
   "metadata": {},
   "source": [
    "## Definición de algoritmos <a id=\"algoritmos\"></a><a href=\"#index\"><i class=\"fa fa-list-alt\" aria-hidden=\"true\"></i></a>\n",
    "\n",
    "En la versión de este año **solo se ejecutarán algoritmos de clasificación** y con parámetros fijos (sin optimizar).\n",
    "\n",
    "- Si un algoritmo **no** es de clasificación se ignorará por completo.\n",
    "- Si no se especifican valores de parámetros, se utilizarán los valores por defecto."
   ]
  },
  {
   "cell_type": "code",
   "execution_count": 157,
   "metadata": {},
   "outputs": [],
   "source": [
    "algoritmos = [\n",
    "    {\n",
    "        \"ID_ALG\":\"KNN1\",\n",
    "        \"ALGO\": \"sklearn.neighbors.KNeighborsClassifier\",\n",
    "        \"PARAMS\":{\n",
    "            \"n_neighbors\":3,\n",
    "            \"metric\":\"euclidean\"\n",
    "        }\n",
    "    },\n",
    "    {\n",
    "        \"ID_ALG\":\"Tree\",\n",
    "        \"ALGO\": \"sklearn.tree.DecisionTreeClassifier\",\n",
    "        \"PARAMS\":{  # Parámetros por defecto       \n",
    "        }\n",
    "    },\n",
    "]"
   ]
  },
  {
   "cell_type": "markdown",
   "metadata": {},
   "source": [
    "## Definición de la presentación <a id=\"presentación\"></a><a href=\"#index\"><i class=\"fa fa-list-alt\" aria-hidden=\"true\"></i></a>\n",
    "\n",
    "Se permite definir la métrica de calidad de los métodos, que será cualquiera de las de clasificación.\n",
    "\n",
    "Y se podrá elegir entre *'table'* y diagrámas de Pandas ('line', 'bar')"
   ]
  },
  {
   "cell_type": "code",
   "execution_count": 130,
   "metadata": {},
   "outputs": [],
   "source": [
    "output = {\n",
    "    \"METRIC\":\"accuracy\",\n",
    "    \"DISPLAY\":\"table\"\n",
    "}"
   ]
  },
  {
   "cell_type": "code",
   "execution_count": 131,
   "metadata": {},
   "outputs": [],
   "source": [
    "experimento = {\n",
    "    \"GENERAL\":general,\n",
    "    \"DATASETS\":datasets,\n",
    "    \"ALGORITMOS\":algoritmos,\n",
    "    \"OUTPUT\": output    \n",
    "}"
   ]
  },
  {
   "cell_type": "markdown",
   "metadata": {},
   "source": [
    "# Tareas de la práctica <a id=\"tareas\"></a><a href=\"#index\"><i class=\"fa fa-list-alt\" aria-hidden=\"true\"></i></a>\n",
    "\n",
    "Las tareas consistirán en interpretar el diccionario y crear las funciones para ejecutar el experimento y mostrar los resultados.\n",
    "\n",
    "Las funciones trabajarán un con una serie de variables definidas a continuación."
   ]
  },
  {
   "cell_type": "code",
   "execution_count": 132,
   "metadata": {},
   "outputs": [],
   "source": [
    "'''\n",
    "Guarda el ID del experimento, se usaría para guardar las tablas y las figuras asociados\n",
    "a un experimento, no se usará en la práctica\n",
    "'''\n",
    "name_exp =\"\" \n",
    "'''\n",
    "Guarda el número de folds, se usa en la validación cruzada.\n",
    "'''\n",
    "num_folds =0\n",
    "\n",
    "'''\n",
    "Guarda los nombres de los datasets, se usa para la tabla o figura de resultados\n",
    "'''\n",
    "data_names = []\n",
    "\n",
    "'''\n",
    "Guarda los datasets, la parte X, se usa en la validación cruzada.\n",
    "'''\n",
    "data_X = []\n",
    "\n",
    "'''\n",
    "Guarda los datasets, la parte y, se usa en la validación cruzada.\n",
    "'''\n",
    "data_y = []\n",
    "\n",
    "'''\n",
    "Guarda los nombres de los clasificadores. Se usa para la tabla o figura de resultados\n",
    "'''\n",
    "model_names = []\n",
    "'''\n",
    "Guarda los clasificadores. Instancias de objetos ya creados, se usa en la validación cruzada.\n",
    "'''\n",
    "models = []\n",
    "\n",
    "'''\n",
    "Guarda la métrica de clasificación, se usa en la validación cruzada.\n",
    "'''\n",
    "score = \"\"\n",
    "\n",
    "'''\n",
    "Guarda el tipo de representación, se usa para saber como mostrar los resultados\n",
    "'''\n",
    "rep_type = \"\""
   ]
  },
  {
   "cell_type": "markdown",
   "metadata": {},
   "source": [
    "### Recuperar los datos generales\n",
    "\n",
    "\n",
    "#### Tarea 1: get_datos_generales\n",
    "\n",
    "Lee el diccionario del experimento y devuelve el identificador del experimento y el número de folds.\n"
   ]
  },
  {
   "cell_type": "code",
   "execution_count": 133,
   "metadata": {},
   "outputs": [],
   "source": [
    "\n",
    "# Completar\n",
    "def get_datos_generales(experimento):\n",
    "    ID = experimento[\"GENERAL\"][\"ID\"]\n",
    "    folds = experimento[\"GENERAL\"][\"N_FOLDS\"] \n",
    "    return ID,folds\n",
    "\n",
    "\n",
    "name_exp,num_folds = get_datos_generales(experimento)"
   ]
  },
  {
   "cell_type": "markdown",
   "metadata": {},
   "source": [
    "### Recuperar los datasets\n",
    "\n",
    "#### Tarea 2: get_datasets\n",
    "\n",
    "Lee el diccionario y devuelve 3 listas.\n",
    "- Una con los nombres de los datasets\n",
    "- Otra con arrays de numpy que contienen los atributos $X$\n",
    "- Otra con arrays de numpy que contienen las clases $y$\n",
    "\n",
    "Para realizar este método se proporcionan unos ejemplos de código que se pueden utilizar.\n"
   ]
  },
  {
   "cell_type": "code",
   "execution_count": 134,
   "metadata": {},
   "outputs": [
    {
     "name": "stdout",
     "output_type": "stream",
     "text": [
      "Iris lo guardo en data_names\n",
      "Wine lo guardo en data_names\n",
      "Noticias lo guardo en data_names\n"
     ]
    }
   ],
   "source": [
    "'''\n",
    "Ejemplo 1\n",
    "Recuperar los nombres de los datasets\n",
    "'''\n",
    "\n",
    "for entry in experimento[\"DATASETS\"]:\n",
    "    print(entry['ID_DATA'],\"lo guardo en data_names\")\n",
    "    "
   ]
  },
  {
   "cell_type": "code",
   "execution_count": 135,
   "metadata": {},
   "outputs": [
    {
     "name": "stdout",
     "output_type": "stream",
     "text": [
      "7\n"
     ]
    },
    {
     "data": {
      "text/plain": [
       "array([[5.1, 3.5, 1.4, 0.2],\n",
       "       [4.9, 3. , 1.4, 0.2],\n",
       "       [4.7, 3.2, 1.3, 0.2],\n",
       "       [4.6, 3.1, 1.5, 0.2],\n",
       "       [5. , 3.6, 1.4, 0.2]])"
      ]
     },
     "execution_count": 135,
     "metadata": {},
     "output_type": "execute_result"
    }
   ],
   "source": [
    "'''\n",
    "Ejemplo 2\n",
    "Recuperar la función a partir del nombre\n",
    "\n",
    "Como Python es un lenguaje interpretado puede evaluar cadenas de texto \n",
    "como lo hace el propio interprete de Python.\n",
    "\n",
    "Eso permite invocar una función solamente conociendo el nombre.\n",
    "'''\n",
    "\n",
    "from sklearn.datasets import *\n",
    "\n",
    "nombre_funcion = \"load_iris\"\n",
    "\n",
    "# Evaluo una cadena\n",
    "print(eval(\"2+5\"))\n",
    "\n",
    "# Evaluo una función conociendo el nombre\n",
    "iris = eval(nombre_funcion+\"()\")\n",
    "iris.data[:5]\n"
   ]
  },
  {
   "cell_type": "code",
   "execution_count": 136,
   "metadata": {},
   "outputs": [],
   "source": [
    "# Completar\n",
    "def get_datasets(experimento):\n",
    "    datasets = []\n",
    "    x = []\n",
    "    y = []\n",
    "    for entry in experimento[\"DATASETS\"]:\n",
    "        if \".\" not in entry[\"ORIGIN\"]:\n",
    "            datasets.append(entry['ID_DATA'])\n",
    "            data = eval(entry[\"ORIGIN\"]+\"()\")\n",
    "            x.append(data.data)\n",
    "            y.append(data.target)\n",
    "    \n",
    "    \n",
    "    return datasets,x,y\n",
    "\n",
    "data_names,data_X,data_y = get_datasets(experimento)"
   ]
  },
  {
   "cell_type": "markdown",
   "metadata": {},
   "source": [
    "### Recuperar los clasificadores\n",
    "\n",
    "#### Tarea 3: get_algoritmos\n",
    "\n",
    "Devuelve 2 listas:\n",
    "- Una con el nombre de los algoritmos o modelos.\n",
    "- Otra con instancias ya creadas de cada uno de los algoritmos.\n",
    "\n",
    "Para hacer esta función se pueden reutilizar los siguientes ejemplos:"
   ]
  },
  {
   "cell_type": "code",
   "execution_count": 137,
   "metadata": {},
   "outputs": [
    {
     "name": "stdout",
     "output_type": "stream",
     "text": [
      "KNN1 lo guardo en model_names\n",
      "Tree lo guardo en model_names\n"
     ]
    }
   ],
   "source": [
    "'''\n",
    "Ejemplo 3\n",
    "Recuperar el nombre de los algoritmos\n",
    "'''\n",
    "\n",
    "for entry in experimento[\"ALGORITMOS\"]:\n",
    "    print(entry['ID_ALG'],\"lo guardo en model_names\")"
   ]
  },
  {
   "cell_type": "code",
   "execution_count": 138,
   "metadata": {},
   "outputs": [],
   "source": [
    "'''\n",
    "Ejemplo 4\n",
    "\n",
    "Obtener el nombre del método y el diccionario de parámetros\n",
    "'''\n",
    "\n",
    "metodo = experimento[\"ALGORITMOS\"][0][\"ALGO\"]\n",
    "params = experimento[\"ALGORITMOS\"][0][\"PARAMS\"]"
   ]
  },
  {
   "cell_type": "code",
   "execution_count": 139,
   "metadata": {},
   "outputs": [
    {
     "name": "stdout",
     "output_type": "stream",
     "text": [
      "sklearn.neighbors.KNeighborsClassifier\n"
     ]
    },
    {
     "data": {
      "text/plain": [
       "[(0, 's'), (1, 'k'), (2, 'l'), (3, 'e'), (4, 'a'), (5, 'r'), (6, 'n')]"
      ]
     },
     "execution_count": 139,
     "metadata": {},
     "output_type": "execute_result"
    }
   ],
   "source": [
    "'''\n",
    "Ejemplo 5\n",
    "\n",
    "Recordando que hacía enumerate.\n",
    "Asocia cada elemento a un índice\n",
    "'''\n",
    "\n",
    "print(metodo)\n",
    "list(enumerate(metodo))[:7]"
   ]
  },
  {
   "cell_type": "code",
   "execution_count": 140,
   "metadata": {},
   "outputs": [
    {
     "data": {
      "text/plain": [
       "[7, 17]"
      ]
     },
     "execution_count": 140,
     "metadata": {},
     "output_type": "execute_result"
    }
   ],
   "source": [
    "'''\n",
    "Ejemplo 6\n",
    "Recuperando los '.' dentro del nombre completo del método\n",
    "'''\n",
    "\n",
    "[pos for pos, char in enumerate(metodo) if char == \".\"]"
   ]
  },
  {
   "cell_type": "code",
   "execution_count": 141,
   "metadata": {},
   "outputs": [
    {
     "name": "stdout",
     "output_type": "stream",
     "text": [
      "sklearn.neighbors\n",
      "KNeighborsClassifier\n"
     ]
    }
   ],
   "source": [
    "'''\n",
    "Ejemplo 7\n",
    "\n",
    "Obtención del nombre de la clase (del último punto al final)\n",
    "Y del nombre del módulo donde se encuentra esa clase.\n",
    "'''\n",
    "\n",
    "nombre_modulo = metodo[:17]\n",
    "nombre_clase = metodo[17+1:]\n",
    "print(nombre_modulo)\n",
    "print(nombre_clase)"
   ]
  },
  {
   "cell_type": "code",
   "execution_count": 142,
   "metadata": {},
   "outputs": [
    {
     "data": {
      "text/plain": [
       "KNeighborsClassifier(algorithm='auto', leaf_size=30, metric='minkowski',\n",
       "           metric_params=None, n_jobs=None, n_neighbors=5, p=2,\n",
       "           weights='uniform')"
      ]
     },
     "execution_count": 142,
     "metadata": {},
     "output_type": "execute_result"
    }
   ],
   "source": [
    "'''\n",
    "Ejemplo 8\n",
    "\n",
    "Carga dinámica de módulos en Python\n",
    "\n",
    "- Obtención de un módulo a partir de su nombre.\n",
    "- Obtención de una clase, a partir del módulo y el nombre de la clase\n",
    "- Instanciación de un objeto usando su clase\n",
    "'''\n",
    "\n",
    "import importlib\n",
    "\n",
    "modulo = importlib.import_module(nombre_modulo)\n",
    "clase = getattr(modulo, nombre_clase)\n",
    "objeto = clase()\n",
    "\n",
    "objeto"
   ]
  },
  {
   "cell_type": "code",
   "execution_count": 143,
   "metadata": {},
   "outputs": [
    {
     "name": "stdout",
     "output_type": "stream",
     "text": [
      "{'n_neighbors': 3, 'metric': 'euclidean'}\n"
     ]
    },
    {
     "data": {
      "text/plain": [
       "KNeighborsClassifier(algorithm='auto', leaf_size=30, metric='euclidean',\n",
       "           metric_params=None, n_jobs=None, n_neighbors=3, p=2,\n",
       "           weights='uniform')"
      ]
     },
     "execution_count": 143,
     "metadata": {},
     "output_type": "execute_result"
    }
   ],
   "source": [
    "'''\n",
    "Ejemplo 9\n",
    "\n",
    "Ejemplo 8 ampliado con el paso de argumentos opcionales a través de un diccionario\n",
    "'''\n",
    "# modulo es un módulo de python cargado a partir del nombre\n",
    "modulo = importlib.import_module(nombre_modulo)\n",
    "# las clases son atributos de un módulo\n",
    "clase = getattr(modulo, nombre_clase)\n",
    "# En python se puede instanciar un objeto solamente con el nombre de la clase\n",
    "objeto = clase(**params)\n",
    "\n",
    "print(params)\n",
    "objeto"
   ]
  },
  {
   "cell_type": "code",
   "execution_count": 144,
   "metadata": {},
   "outputs": [
    {
     "data": {
      "text/plain": [
       "(['KNN1', 'Tree'],\n",
       " [KNeighborsClassifier(algorithm='auto', leaf_size=30, metric='euclidean',\n",
       "             metric_params=None, n_jobs=None, n_neighbors=3, p=2,\n",
       "             weights='uniform'),\n",
       "  DecisionTreeClassifier(class_weight=None, criterion='gini', max_depth=None,\n",
       "              max_features=None, max_leaf_nodes=None,\n",
       "              min_impurity_decrease=0.0, min_impurity_split=None,\n",
       "              min_samples_leaf=1, min_samples_split=2,\n",
       "              min_weight_fraction_leaf=0.0, presort=False, random_state=None,\n",
       "              splitter='best')])"
      ]
     },
     "execution_count": 144,
     "metadata": {},
     "output_type": "execute_result"
    }
   ],
   "source": [
    "# Completar\n",
    "def get_algoritmos(experimento):\n",
    "    algoNames = []\n",
    "    models = []\n",
    "    for entry in experimento[\"ALGORITMOS\"]:\n",
    "        algoNames.append(entry['ID_ALG'])\n",
    "        metodo = entry[\"ALGO\"]\n",
    "        params = entry[\"PARAMS\"]\n",
    "        \n",
    "        points = [pos for pos, char in enumerate(metodo) if char == \".\"]\n",
    "        nombre_modulo = metodo[:points[1]]\n",
    "        nombre_clase = metodo[points[1]+1:]\n",
    "        modulo = importlib.import_module(nombre_modulo)\n",
    "        clase = getattr(modulo, nombre_clase)\n",
    "        models.append(clase(**params))\n",
    "        \n",
    "    return algoNames, models\n",
    "\n",
    "model_names,models = get_algoritmos(experimento)\n",
    "model_names,models"
   ]
  },
  {
   "cell_type": "markdown",
   "metadata": {},
   "source": [
    "### Recuperar las opciones de salida\n",
    "\n",
    "#### Tarea 4: get_output_options\n",
    "\n",
    "Obtención de las opciones para mostrar los resultados a partir del diccionario.\n"
   ]
  },
  {
   "cell_type": "code",
   "execution_count": 145,
   "metadata": {},
   "outputs": [
    {
     "data": {
      "text/plain": [
       "('accuracy', 'table')"
      ]
     },
     "execution_count": 145,
     "metadata": {},
     "output_type": "execute_result"
    }
   ],
   "source": [
    "def get_output_options(experimento):\n",
    "    metric = experimento[\"OUTPUT\"][\"METRIC\"]\n",
    "    repType = experimento[\"OUTPUT\"][\"DISPLAY\"]\n",
    "    return metric, repType\n",
    "\n",
    "score,rep_type = get_output_options(experimento)\n",
    "score,rep_type"
   ]
  },
  {
   "cell_type": "markdown",
   "metadata": {},
   "source": [
    "### Ejecutar los experimentos\n",
    "\n",
    "Ejecución de los algoritmos sobre los conjuntos de datos. Usando validación cruzada con el número de folds deseado y la medida deseada.\n",
    "\n",
    "Se puede reutilizar código de los ejemplos de la introducción a Sklearn.\n",
    "\n",
    "#### Tarea 5: cross_validate_model\n",
    "\n",
    "Evalua un modelo de clasificación sobre un conjunto de datos.\n",
    "Devuelve un array con tantos valores como particiones tenga la validación cruzada. \n",
    "Ej si num_folds = 5, se devuelve un array de Numpy con 5 valores.\n",
    "\n",
    "\n",
    "#### Tarea 6: cross_validate_all_models\n",
    "\n",
    "Utiliza la función anterior para todos los datasets y todos los clasificadores.\n",
    "\n",
    "- Itera por los datasets\n",
    "    - Itera por los clasificadores\n",
    "    \n",
    "Devuelve una lista de arrays 2D.\n",
    "- Tantos elementos en la lista como datasets.\n",
    "- Tantos elementos en los arrays 2D como clasificadores."
   ]
  },
  {
   "cell_type": "code",
   "execution_count": 146,
   "metadata": {},
   "outputs": [
    {
     "data": {
      "text/plain": [
       "array([0.96666667, 0.96666667, 0.93333333, 0.96666667, 1.        ])"
      ]
     },
     "execution_count": 146,
     "metadata": {},
     "output_type": "execute_result"
    }
   ],
   "source": [
    "import numpy as np\n",
    "from sklearn.model_selection import cross_val_score\n",
    "\n",
    "# Completar\n",
    "\n",
    "def cross_validate_model(X,y,model,num_folds,score):\n",
    "    # los datos son inventados, no tiene porque devolver los datos de ejemplo\n",
    "     return cross_val_score(model, X, y, cv=num_folds, scoring=score)\n",
    "\n",
    "#results_data_model =cross_validate_model(iris.data,iris.target,objeto,5,\"accuracy\")\n",
    "#results_data_model\n",
    "results_data_model =cross_validate_model(data_X[0],data_y[0],models[0],num_folds,score)\n",
    "results_data_model"
   ]
  },
  {
   "cell_type": "code",
   "execution_count": 147,
   "metadata": {},
   "outputs": [
    {
     "data": {
      "text/plain": [
       "[[array([0.96666667, 0.96666667, 0.93333333, 0.96666667, 1.        ]),\n",
       "  array([0.62162162, 0.72222222, 0.66666667, 0.65714286, 0.85294118])],\n",
       " [array([0.96666667, 0.96666667, 0.9       , 0.96666667, 1.        ]),\n",
       "  array([0.78378378, 0.80555556, 0.83333333, 0.91428571, 0.85294118])]]"
      ]
     },
     "execution_count": 147,
     "metadata": {},
     "output_type": "execute_result"
    }
   ],
   "source": [
    "def cross_validate_all_models(data_X,data_y,models,num_folds,score):\n",
    "    results = []\n",
    "    for model in models:\n",
    "        resultModel = []\n",
    "        for i in range(len(data_X)):\n",
    "            resultModel.append(cross_val_score(model, data_X[i], data_y[i], cv=num_folds, scoring=score))\n",
    "        results.append(resultModel)\n",
    "        resultModel = []\n",
    "    return results\n",
    "\n",
    "\n",
    "#all_results = cross_validate_all_models()\n",
    "all_results = cross_validate_all_models(data_X,data_y,models,num_folds,score)\n",
    "all_results"
   ]
  },
  {
   "cell_type": "markdown",
   "metadata": {},
   "source": [
    "### Mostrar los resultados\n",
    "\n",
    "#### Tarea 7: process_results\n",
    "\n",
    "Esta función toma una tabla de resultados como la resultante de la tarea 6 y agrega los valores de la validación cruzada con la media.\n",
    "\n",
    "Crea una tabla de Nº Datasets $\\times$ Nº Clasificadores.\n",
    "\n",
    "Puede devolver la tabla o puede hacer un gráfico usando las funciones de dibujado de Pandas.\n"
   ]
  },
  {
   "cell_type": "code",
   "execution_count": 148,
   "metadata": {},
   "outputs": [],
   "source": [
    "import pandas as pd \n",
    "# Completar\n",
    "def process_results(all_results, data_names, model_names, rep_type):\n",
    "    data = pd.DataFrame(columns = [x for x in model_names], index = [y for y in data_names])\n",
    "    for model in range(len(all_results)):\n",
    "        for dataset in range(len(all_results[model])):\n",
    "            average = sum(all_results[model][dataset])/len(all_results[model][dataset])            \n",
    "            data.iloc[model,dataset] = average\n",
    "    if rep_type == \"table\":\n",
    "        return data    \n",
    "    else:\n",
    "        data.plot(kind=rep_type)\n",
    "\n",
    "\n",
    "\n"
   ]
  },
  {
   "cell_type": "code",
   "execution_count": 149,
   "metadata": {},
   "outputs": [
    {
     "data": {
      "text/html": [
       "<div>\n",
       "<style scoped>\n",
       "    .dataframe tbody tr th:only-of-type {\n",
       "        vertical-align: middle;\n",
       "    }\n",
       "\n",
       "    .dataframe tbody tr th {\n",
       "        vertical-align: top;\n",
       "    }\n",
       "\n",
       "    .dataframe thead th {\n",
       "        text-align: right;\n",
       "    }\n",
       "</style>\n",
       "<table border=\"1\" class=\"dataframe\">\n",
       "  <thead>\n",
       "    <tr style=\"text-align: right;\">\n",
       "      <th></th>\n",
       "      <th>KNN1</th>\n",
       "      <th>Tree</th>\n",
       "    </tr>\n",
       "  </thead>\n",
       "  <tbody>\n",
       "    <tr>\n",
       "      <th>Iris</th>\n",
       "      <td>0.966667</td>\n",
       "      <td>0.704119</td>\n",
       "    </tr>\n",
       "    <tr>\n",
       "      <th>Wine</th>\n",
       "      <td>0.96</td>\n",
       "      <td>0.83798</td>\n",
       "    </tr>\n",
       "  </tbody>\n",
       "</table>\n",
       "</div>"
      ],
      "text/plain": [
       "          KNN1      Tree\n",
       "Iris  0.966667  0.704119\n",
       "Wine      0.96   0.83798"
      ]
     },
     "execution_count": 149,
     "metadata": {},
     "output_type": "execute_result"
    }
   ],
   "source": [
    "data = process_results(all_results, data_names, model_names, \"table\")\n",
    "data"
   ]
  },
  {
   "cell_type": "code",
   "execution_count": 150,
   "metadata": {},
   "outputs": [
    {
     "data": {
      "image/png": "[encoded data removed]",
      "text/plain": [
       "<Figure size 432x288 with 1 Axes>"
      ]
     },
     "metadata": {
      "needs_background": "light"
     },
     "output_type": "display_data"
    }
   ],
   "source": [
    "data = process_results(all_results, data_names, model_names, \"bar\")"
   ]
  },
  {
   "cell_type": "markdown",
   "metadata": {},
   "source": [
    "#### Tarea 8:  Crea un experimento de clasificación más completo.\n",
    "\n",
    "- Añade más conjuntos de datos y añade más clasificadores.\n",
    "    - También puedes probar varias configuraciones de parámetros para cada clasificador.\n",
    "- Ejecuta todas las funciones en el orden correcto y obten los resultados\n",
    "\n"
   ]
  },
  {
   "cell_type": "code",
   "execution_count": 193,
   "metadata": {},
   "outputs": [],
   "source": [
    "def addData(dataset, data):\n",
    "    #checks if data already in list, so code can be executed multiple times\n",
    "    if not data in dataset:\n",
    "        dataset.append(data)\n",
    "        \n",
    "\n",
    "addData(datasets, {\"ID_DATA\":\"breastCancer\",\"ORIGIN\":\"load_breast_cancer\"})\n",
    "\n",
    "addData(algoritmos, {\"ID_ALG\":\"NaiveBayes\", \"ALGO\": \"sklearn.naive_bayes.GaussianNB\", \"PARAMS\":{}})"
   ]
  },
  {
   "cell_type": "code",
   "execution_count": 192,
   "metadata": {},
   "outputs": [],
   "source": [
    "\n",
    "datasets = [\n",
    "    {\n",
    "        \"ID_DATA\":\"Iris\",\n",
    "        \"ORIGIN\":\"load_iris\",   # el nombre de la función que lo carga\n",
    "    },\n",
    "    {\n",
    "        \"ID_DATA\":\"Wine\",\n",
    "        \"ORIGIN\":\"load_wine\",   # el nombre de la función que lo carga\n",
    "    },\n",
    "    {\n",
    "        \"ID_DATA\":\"Noticias\",\n",
    "        \"ORIGIN\":\"noticias.csv\",   # el nombre del fichero. Se ignoran estos datasets este año\n",
    "    },\n",
    "    \n",
    "]\n",
    "\n",
    "algoritmos = [\n",
    "    {\n",
    "        \"ID_ALG\":\"KNN1\",\n",
    "        \"ALGO\": \"sklearn.neighbors.KNeighborsClassifier\",\n",
    "        \"PARAMS\":{\n",
    "            \"n_neighbors\":3,\n",
    "            \"metric\":\"euclidean\"\n",
    "        }\n",
    "    },\n",
    "    {\n",
    "        \"ID_ALG\":\"Tree\",\n",
    "        \"ALGO\": \"sklearn.tree.DecisionTreeClassifier\",\n",
    "        \"PARAMS\":{  # Parámetros por defecto       \n",
    "        }\n",
    "    },\n",
    "]"
   ]
  },
  {
   "cell_type": "code",
   "execution_count": 194,
   "metadata": {},
   "outputs": [],
   "source": [
    "\n",
    "def classifyAll(general, datasets, algoritmos, output):\n",
    "    experiment = {\"GENERAL\":general,\n",
    "    \"DATASETS\":datasets,\n",
    "    \"ALGORITMOS\":algoritmos,\n",
    "    \"OUTPUT\": output}\n",
    "    name_exp,num_folds = get_datos_generales(experiment)\n",
    "    data_names,data_X,data_y = get_datasets(experiment)\n",
    "    model_names,models = get_algoritmos(experiment)\n",
    "    score,rep_type = get_output_options(experiment)\n",
    "    \n",
    "    all_results = cross_validate_all_models(data_X,data_y,models,num_folds,score)\n",
    "    data = process_results(all_results, data_names, model_names, \"bar\")\n",
    "    \n",
    "  \n",
    "   \n"
   ]
  },
  {
   "cell_type": "code",
   "execution_count": 195,
   "metadata": {},
   "outputs": [
    {
     "data": {
      "image/png": "[encoded data removed]",
      "text/plain": [
       "<Figure size 432x288 with 1 Axes>"
      ]
     },
     "metadata": {
      "needs_background": "light"
     },
     "output_type": "display_data"
    }
   ],
   "source": [
    "classifyAll(general, datasets, algoritmos, output)"
   ]
  },
  {
   "cell_type": "markdown",
   "metadata": {},
   "source": [
    "# Tareas opcionales <a id=\"opcionales\"></a><a href=\"#index\"><i class=\"fa fa-list-alt\" aria-hidden=\"true\"></i></a>\n",
    "\n",
    "Hay varias tareas opcionales para aquellos que quieran mejorar la práctica.\n",
    "- Incluir el uso de optimización de parámetros. El espacio de parámetros ya se define como un diccionario. Solo habría que añadir una clave al diccionario de algoritmos con este diccionario de parámetros (para hacer grid search) o junto con el número de iteraciones para hacer random search.\n",
    "- Configurar algunas partes del experimento con ayuda de una interfaz (ipywidgets)"
   ]
  },
  {
   "cell_type": "code",
   "execution_count": null,
   "metadata": {},
   "outputs": [],
   "source": []
  },
  {
   "cell_type": "code",
   "execution_count": null,
   "metadata": {},
   "outputs": [],
   "source": []
  },
  {
   "cell_type": "code",
   "execution_count": null,
   "metadata": {},
   "outputs": [],
   "source": []
  }
 ],
 "metadata": {
  "kernelspec": {
   "display_name": "Python 3",
   "language": "python",
   "name": "python3"
  },
  "language_info": {
   "codemirror_mode": {
    "name": "ipython",
    "version": 3
   },
   "file_extension": ".py",
   "mimetype": "text/x-python",
   "name": "python",
   "nbconvert_exporter": "python",
   "pygments_lexer": "ipython3",
   "version": "3.7.1"
  }
 },
 "nbformat": 4,
 "nbformat_minor": 2
}
