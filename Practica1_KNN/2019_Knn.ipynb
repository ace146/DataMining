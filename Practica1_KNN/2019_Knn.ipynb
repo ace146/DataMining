{
 "cells": [
  {
   "cell_type": "markdown",
   "metadata": {
    "colab_type": "text",
    "id": "I_mF2IG5bNnl"
   },
   "source": [
    "<img style=\"float:left\" width=\"70%\" src=\"pics/escudo_COLOR_1L_DCHA.png\">\n",
    "<img style=\"float:right\" width=\"15%\" src=\"pics/PythonLogo.svg\">\n",
    "<br style=\"clear:both;\">\n",
    "\n",
    "\n",
    "# Minería de datos\n",
    "\n",
    "<h2 style=\"display: inline-block; padding: 4mm; padding-left: 2em; background-color: navy; line-height: 1.3em; color: white; border-radius: 10px;\">Práctica 1: K-nn</h2>\n",
    "\n",
    "## Docentes\n",
    "\n",
    " - José Francisco Diez Pastor"
   ]
  },
  {
   "cell_type": "markdown",
   "metadata": {
    "colab_type": "text",
    "id": "hswAk32ubNnt"
   },
   "source": [
    "<a id=\"index\"></a>\n",
    "## Tabla de contenidos del notebook\n",
    "\n",
    "1. [Introducción al aprendizaje supervisado](#intro)\n",
    "2. [Vecinos más cercanos o k-NN](#vecinos)\n",
    "3. [Tareas de la practica k-NN](#tareas)"
   ]
  },
  {
   "cell_type": "markdown",
   "metadata": {
    "colab_type": "text",
    "id": "9LFNUdYFbNn0"
   },
   "source": [
    "# Introducción al aprendizaje supervisado <a id=\"intro\"></a><a href=\"#index\"><i class=\"fa fa-list-alt\" aria-hidden=\"true\"></i></a>\n",
    "\n",
    "\n",
    "Los algoritmos de aprendizaje supervisado generan un **modelo predictivo** a partir de los datos de entrada y de la salida esperada (la salida también se llama clase). La palabra **supervisado** viene de que un humano debe de haber creado o supervisado los valores de salida que el algoritmo tiene que aprender.\n",
    "\n",
    "El conjunto de datos se denomina conjunto de entrenamiento y se utiliza para que el algoritmo de aprendizaje ajuste sus parámetros (por ejemplo los pesos y el umbral en el caso de las redes neuronales) y permita clasificar correctamente la salida a partir de los datos de entrada.\n",
    "\n",
    "Existen dos tipos de algoritmos de aprendizaje supervisado:\n",
    "- Algoritmos de clasificación: La salida o clase es un valor discreto. \n",
    "- Algoritmos de regresión: La salida o clase es un valor numérico. **Como vamos a trabajar con el conjunto de datos de BodyFat, se va a tratar de regresión**\n",
    "\n",
    "Estos conceptos y muchos más se ven en la parte teórica de la asignatura, así que los vamos a ver solo de pasada."
   ]
  },
  {
   "cell_type": "markdown",
   "metadata": {
    "colab_type": "text",
    "id": "Dw9FlqSnbNn-"
   },
   "source": [
    "-------------------\n",
    "En la siguiente celda podemos ver el esquema general de un algoritmo de aprendizaje supervisado y un ejemplo.\n",
    "\n",
    "![alt text](pics/esquemaGeneral-1.png \"Logo Title Text 1\")"
   ]
  },
  {
   "cell_type": "markdown",
   "metadata": {
    "colab_type": "text",
    "id": "GSDsiElsbNoC"
   },
   "source": [
    "# Vecinos más cercanos o k-NN <a id=\"vecinos\"></a><a href=\"#index\"><i class=\"fa fa-list-alt\" aria-hidden=\"true\"></i></a>\n",
    "\n",
    "- Es el algoritmo de clasificación y regresión más simple.\n",
    "- En la fase de entrenamiento simplemente almacena el conjunto de datos. Puede almacenarlo normalizado, luego veremos que es esto.\n",
    "- Busca los $k$ vecinos más cercanos del ejemplo a predecir ($k$ es un parámetro, por ejemplo con $k=3$ significa que se usan los 3 ejemplos/filas más similares de entre los existentes en el conjunto de entrenamiento). \n",
    "- Pasos:\n",
    "    - Se normalizan los atributos numericos. Restando el mínimo y dividiendo entre el rango.\n",
    "    - Se calcula la distancia entre cada ejemplo, sumando las distancias de cada atributo. \n",
    "    - En atributos nominales (aquellos que no son números sino categorías), la distancia es 0 si son iguales o 1 si son distintos.\n",
    "    - En numéricos es la diferencia de valores.\n",
    "    - Se eligen los $k$ vecinos más cercanos. \n",
    "    - Se predice la moda (clasificación) o la media (regresión) de las clases de los ejemplos más cercanos."
   ]
  },
  {
   "cell_type": "markdown",
   "metadata": {
    "colab_type": "text",
    "id": "DklJPEiRbNoG"
   },
   "source": [
    "Idea general del funcionamiento de vecinos más cercanos.\n",
    "\n",
    "![alt text](pics/knnk.png \"Logo Title Text 1\")"
   ]
  },
  {
   "cell_type": "markdown",
   "metadata": {
    "colab_type": "text",
    "collapsed": true,
    "id": "H4l9zcZEbNoM"
   },
   "source": [
    "En la figura podemos ver las áreas de influencia o fronteras de decisión.\n",
    "\n",
    "Todas las regiones de color morado indican que el algoritmo entrenado prediciría la clase \"morado\" para un ejemplo de test localizado en esa casilla.\n",
    "\n",
    "Nota: Los ejemplos de test, son los que se usan para evaluar como de bien funciona un algoritmo de clasificación o regresión."
   ]
  },
  {
   "cell_type": "markdown",
   "metadata": {
    "colab_type": "text",
    "collapsed": true,
    "id": "DNAcbFZAbNoP"
   },
   "source": [
    "# Tareas de la practica k-NN <a id=\"tareas\"></a><a href=\"#index\"><i class=\"fa fa-list-alt\" aria-hidden=\"true\"></i></a>\n",
    "\n",
    "En esta práctica se va a crear una clase llamada \"ClasificadorKNN\" que va a tener dos métodos:\n",
    "- Entrenar(X,y). \n",
    "- Predecir(X).\n",
    "\n",
    "----------\n",
    "\n",
    "- $X$ son los valores de atributos que definen cada ejemplo o individuo. Como Age,  Weight, \tHeight, Neck, etc.\n",
    "- $y$ son los valores que tratamos de predecir. Son la clase del invididuo. En este caso el porcentaje de grasa."
   ]
  },
  {
   "cell_type": "code",
   "execution_count": 1,
   "metadata": {
    "colab": {
     "base_uri": "https://localhost:8080/",
     "height": 204
    },
    "colab_type": "code",
    "executionInfo": {
     "elapsed": 749,
     "status": "ok",
     "timestamp": 1549978919842,
     "user": {
      "displayName": "Athwulf",
      "photoUrl": "",
      "userId": "02534961995859623315"
     },
     "user_tz": -60
    },
    "id": "TCssAgWhbNoV",
    "outputId": "aba9126f-2bd8-4f82-b3fd-b653bb6f659e"
   },
   "outputs": [
    {
     "data": {
      "text/html": [
       "<div>\n",
       "<style scoped>\n",
       "    .dataframe tbody tr th:only-of-type {\n",
       "        vertical-align: middle;\n",
       "    }\n",
       "\n",
       "    .dataframe tbody tr th {\n",
       "        vertical-align: top;\n",
       "    }\n",
       "\n",
       "    .dataframe thead th {\n",
       "        text-align: right;\n",
       "    }\n",
       "</style>\n",
       "<table border=\"1\" class=\"dataframe\">\n",
       "  <thead>\n",
       "    <tr style=\"text-align: right;\">\n",
       "      <th></th>\n",
       "      <th>Age</th>\n",
       "      <th>Weight</th>\n",
       "      <th>Height</th>\n",
       "      <th>Neck</th>\n",
       "      <th>Chest</th>\n",
       "      <th>Abdomen</th>\n",
       "      <th>Hip</th>\n",
       "      <th>Thigh</th>\n",
       "      <th>Knee</th>\n",
       "      <th>Ankle</th>\n",
       "      <th>Biceps</th>\n",
       "      <th>Forearm</th>\n",
       "      <th>Wrist</th>\n",
       "      <th>Fat_Percent</th>\n",
       "    </tr>\n",
       "  </thead>\n",
       "  <tbody>\n",
       "    <tr>\n",
       "      <th>0</th>\n",
       "      <td>23</td>\n",
       "      <td>154.25</td>\n",
       "      <td>67.75</td>\n",
       "      <td>36.2</td>\n",
       "      <td>93.1</td>\n",
       "      <td>85.2</td>\n",
       "      <td>94.5</td>\n",
       "      <td>59.0</td>\n",
       "      <td>37.3</td>\n",
       "      <td>21.9</td>\n",
       "      <td>32.0</td>\n",
       "      <td>27.4</td>\n",
       "      <td>17.1</td>\n",
       "      <td>12.27</td>\n",
       "    </tr>\n",
       "    <tr>\n",
       "      <th>1</th>\n",
       "      <td>22</td>\n",
       "      <td>173.25</td>\n",
       "      <td>72.25</td>\n",
       "      <td>38.5</td>\n",
       "      <td>93.6</td>\n",
       "      <td>83.0</td>\n",
       "      <td>98.7</td>\n",
       "      <td>58.7</td>\n",
       "      <td>37.3</td>\n",
       "      <td>23.4</td>\n",
       "      <td>30.5</td>\n",
       "      <td>28.9</td>\n",
       "      <td>18.2</td>\n",
       "      <td>6.10</td>\n",
       "    </tr>\n",
       "    <tr>\n",
       "      <th>2</th>\n",
       "      <td>22</td>\n",
       "      <td>154.00</td>\n",
       "      <td>66.25</td>\n",
       "      <td>34.0</td>\n",
       "      <td>95.8</td>\n",
       "      <td>87.9</td>\n",
       "      <td>99.2</td>\n",
       "      <td>59.6</td>\n",
       "      <td>38.9</td>\n",
       "      <td>24.0</td>\n",
       "      <td>28.8</td>\n",
       "      <td>25.2</td>\n",
       "      <td>16.6</td>\n",
       "      <td>25.32</td>\n",
       "    </tr>\n",
       "    <tr>\n",
       "      <th>3</th>\n",
       "      <td>24</td>\n",
       "      <td>210.25</td>\n",
       "      <td>74.75</td>\n",
       "      <td>39.0</td>\n",
       "      <td>104.5</td>\n",
       "      <td>94.4</td>\n",
       "      <td>107.8</td>\n",
       "      <td>66.0</td>\n",
       "      <td>42.0</td>\n",
       "      <td>25.6</td>\n",
       "      <td>35.7</td>\n",
       "      <td>30.6</td>\n",
       "      <td>18.8</td>\n",
       "      <td>21.34</td>\n",
       "    </tr>\n",
       "    <tr>\n",
       "      <th>4</th>\n",
       "      <td>26</td>\n",
       "      <td>181.00</td>\n",
       "      <td>69.75</td>\n",
       "      <td>36.4</td>\n",
       "      <td>105.1</td>\n",
       "      <td>90.7</td>\n",
       "      <td>100.3</td>\n",
       "      <td>58.4</td>\n",
       "      <td>38.3</td>\n",
       "      <td>22.9</td>\n",
       "      <td>31.9</td>\n",
       "      <td>27.8</td>\n",
       "      <td>17.7</td>\n",
       "      <td>19.24</td>\n",
       "    </tr>\n",
       "  </tbody>\n",
       "</table>\n",
       "</div>"
      ],
      "text/plain": [
       "   Age  Weight  Height  Neck  Chest  Abdomen    Hip  Thigh  Knee  Ankle  \\\n",
       "0   23  154.25   67.75  36.2   93.1     85.2   94.5   59.0  37.3   21.9   \n",
       "1   22  173.25   72.25  38.5   93.6     83.0   98.7   58.7  37.3   23.4   \n",
       "2   22  154.00   66.25  34.0   95.8     87.9   99.2   59.6  38.9   24.0   \n",
       "3   24  210.25   74.75  39.0  104.5     94.4  107.8   66.0  42.0   25.6   \n",
       "4   26  181.00   69.75  36.4  105.1     90.7  100.3   58.4  38.3   22.9   \n",
       "\n",
       "   Biceps  Forearm  Wrist  Fat_Percent  \n",
       "0    32.0     27.4   17.1        12.27  \n",
       "1    30.5     28.9   18.2         6.10  \n",
       "2    28.8     25.2   16.6        25.32  \n",
       "3    35.7     30.6   18.8        21.34  \n",
       "4    31.9     27.8   17.7        19.24  "
      ]
     },
     "execution_count": 1,
     "metadata": {},
     "output_type": "execute_result"
    }
   ],
   "source": [
    "import numpy as np\n",
    "import pandas as pd\n",
    "\n",
    "df=pd.read_csv('BodyFat.csv')\n",
    "\n",
    "# head saca los 5 primeros valores.\n",
    "df.head()\n"
   ]
  },
  {
   "cell_type": "markdown",
   "metadata": {
    "colab_type": "text",
    "id": "UTuluWolbNop"
   },
   "source": [
    "Dividimos el conjunto de datos en $X$ e $y$."
   ]
  },
  {
   "cell_type": "code",
   "execution_count": 3,
   "metadata": {
    "colab": {},
    "colab_type": "code",
    "id": "2I1p-h9IbNot"
   },
   "outputs": [],
   "source": [
    "# Esto son operaciones pandas, lo vamos a ver más adelante en el curso.\n",
    "\n",
    "# y son los valores de la columna Fat_Percent\n",
    "# X son todas las columnas menos Fat_Percent\n",
    "y = df.Fat_Percent.values\n",
    "X = df.drop(\"Fat_Percent\",axis=1).values"
   ]
  },
  {
   "cell_type": "code",
   "execution_count": 4,
   "metadata": {
    "colab": {
     "base_uri": "https://localhost:8080/",
     "height": 34
    },
    "colab_type": "code",
    "executionInfo": {
     "elapsed": 540,
     "status": "ok",
     "timestamp": 1549978926621,
     "user": {
      "displayName": "Athwulf",
      "photoUrl": "",
      "userId": "02534961995859623315"
     },
     "user_tz": -60
    },
    "id": "Y6xhCq0nbNo6",
    "outputId": "2d1d3a80-8f14-4464-96e9-2820cf5eb286"
   },
   "outputs": [
    {
     "data": {
      "text/plain": [
       "array([12.27,  6.1 , 25.32, 21.34, 19.24])"
      ]
     },
     "execution_count": 4,
     "metadata": {},
     "output_type": "execute_result"
    }
   ],
   "source": [
    "# saca las 5 primeras filas, para ver que pinta tienen\n",
    "y[:5]"
   ]
  },
  {
   "cell_type": "code",
   "execution_count": 5,
   "metadata": {
    "colab": {
     "base_uri": "https://localhost:8080/",
     "height": 136
    },
    "colab_type": "code",
    "executionInfo": {
     "elapsed": 544,
     "status": "ok",
     "timestamp": 1549978929123,
     "user": {
      "displayName": "Athwulf",
      "photoUrl": "",
      "userId": "02534961995859623315"
     },
     "user_tz": -60
    },
    "id": "ZxZvzSBhbNpL",
    "outputId": "2bfa031c-052c-458c-d44d-4bddf22bd9f6"
   },
   "outputs": [
    {
     "data": {
      "text/plain": [
       "array([[ 23.  , 154.25,  67.75, ...,  32.  ,  27.4 ,  17.1 ],\n",
       "       [ 22.  , 173.25,  72.25, ...,  30.5 ,  28.9 ,  18.2 ],\n",
       "       [ 22.  , 154.  ,  66.25, ...,  28.8 ,  25.2 ,  16.6 ],\n",
       "       ...,\n",
       "       [ 72.  , 186.75,  66.  , ...,  31.3 ,  27.2 ,  18.  ],\n",
       "       [ 72.  , 190.75,  70.5 , ...,  30.5 ,  29.4 ,  19.8 ],\n",
       "       [ 74.  , 207.5 ,  70.  , ...,  33.7 ,  30.  ,  20.9 ]])"
      ]
     },
     "execution_count": 5,
     "metadata": {},
     "output_type": "execute_result"
    }
   ],
   "source": [
    "X"
   ]
  },
  {
   "cell_type": "markdown",
   "metadata": {
    "colab_type": "text",
    "id": "Y4FtwYT9bNpY"
   },
   "source": [
    "## Preparando los datos para entrenar y evaluar nuestro algoritmo $k$-NN\n",
    "\n",
    "Dividimos $X$ e $y$ en dos partes. Una parte se usará para entrenar el algoritmo y otra para probar que tal funciona.\n",
    "\n",
    "A la parte que se usa para entrenar el algoritmo se le suele denominar *train* o conjunto de entrenamiento y a la parte que se usa para probar como de bien o mal funciona se le denomina *test*."
   ]
  },
  {
   "cell_type": "code",
   "execution_count": 6,
   "metadata": {
    "colab": {
     "base_uri": "https://localhost:8080/",
     "height": 190
    },
    "colab_type": "code",
    "executionInfo": {
     "elapsed": 534,
     "status": "ok",
     "timestamp": 1549990624769,
     "user": {
      "displayName": "Athwulf",
      "photoUrl": "",
      "userId": "02534961995859623315"
     },
     "user_tz": -60
    },
    "id": "C_4mGZI9bNpd",
    "outputId": "fe09d779-d987-4095-caa9-a3beda24416f"
   },
   "outputs": [
    {
     "name": "stdout",
     "output_type": "stream",
     "text": [
      "[[ 65.   189.75  65.75 ...  35.9   30.5   19.1 ]\n",
      " [ 48.   176.    73.   ...  28.8   29.6   18.7 ]\n",
      " [ 61.   178.    67.   ...  33.6   29.    18.8 ]\n",
      " ...\n",
      " [ 48.   177.25  72.75 ...  29.9   28.    18.1 ]\n",
      " [ 42.   224.75  74.75 ...  33.7   29.9   18.5 ]\n",
      " [ 46.   176.75  72.5  ...  30.2   29.3   18.8 ]]\n",
      "[[ 41.   212.    71.5   41.5  106.6  104.3  106.    65.    40.2   23.\n",
      "   35.8   31.5   18.8 ]\n",
      " [ 50.   194.75  70.75  39.   103.7   97.6  104.2   60.    40.9   25.5\n",
      "   32.7   30.    19.  ]\n",
      " [ 34.   131.5   67.5   36.2   88.6   74.6   85.3   51.7   34.7   21.4\n",
      "   28.7   27.    16.5 ]\n",
      " [ 52.   206.5   74.5   40.8  104.3   99.2  104.1   58.5   39.3   24.6\n",
      "   33.9   31.2   19.5 ]\n",
      " [ 39.   148.5   71.25  34.6   89.8   79.5   92.7   52.7   37.5   21.9\n",
      "   28.8   26.8   17.9 ]\n",
      " [ 31.   177.25  71.5   36.2  101.1   92.4   99.3   59.4   39.    24.6\n",
      "   30.1   28.2   18.2 ]\n",
      " [ 43.   194.    75.5   38.5  110.1   88.7  102.1   57.5   40.    24.8\n",
      "   35.1   30.7   19.2 ]\n",
      " [ 54.   153.25  70.5   38.5   99.    91.8   96.2   57.7   38.1   23.9\n",
      "   31.4   29.9   18.9 ]\n",
      " [ 47.   165.25  70.5   37.5   97.2   83.1   95.4   56.9   38.3   22.1\n",
      "   30.1   28.2   18.4 ]\n",
      " [ 38.   188.75  73.25  37.5   99.1   91.6  102.4   60.6   39.4   22.9\n",
      "   31.6   30.1   18.5 ]\n",
      " [ 58.   161.75  67.25  35.1   94.9   94.9  100.2   56.8   35.9   21.\n",
      "   27.8   26.1   17.6 ]\n",
      " [ 39.   234.75  74.5   42.8  109.5  104.5  109.9   69.5   43.1   25.8\n",
      "   39.1   32.5   19.9 ]\n",
      " [ 56.   174.5   69.5   38.1  104.    89.4   98.4   58.4   37.4   22.5\n",
      "   34.6   30.1   18.8 ]\n",
      " [ 55.   126.5   66.75  33.4   88.8   78.2   87.5   50.8   33.    19.7\n",
      "   25.3   22.    15.8 ]\n",
      " [ 63.   219.15  69.5   40.2  117.6  113.8  111.8   63.4   41.1   22.3\n",
      "   35.1   29.6   18.5 ]\n",
      " [ 40.   168.25  71.25  34.3   98.3   88.5   98.3   58.1   38.4   22.5\n",
      "   31.7   27.4   17.6 ]\n",
      " [ 40.   192.25  73.25  39.8  103.9   93.5   99.5   61.7   39.    21.8\n",
      "   33.3   29.6   18.1 ]\n",
      " [ 52.   203.25  74.25  42.   110.   101.6  100.7   55.8   38.7   23.4\n",
      "   35.1   29.6   19.1 ]\n",
      " [ 43.   165.5   68.5   31.1   93.1   87.3   96.6   54.7   39.    24.8\n",
      "   31.    29.4   18.8 ]\n",
      " [ 55.   183.5   67.5   40.9  103.   100.3  104.2   64.8   40.2   22.7\n",
      "   34.8   30.1   18.7 ]\n",
      " [ 42.   193.5   70.5   40.7  104.9   94.1  102.7   60.6   38.6   24.7\n",
      "   34.    30.1   18.7 ]\n",
      " [ 26.   152.25  69.    35.4   92.9   77.6   93.5   56.9   35.9   20.4\n",
      "   31.6   29.    17.8 ]\n",
      " [ 45.   135.75  68.5   32.8   92.3   83.4   90.4   52.    35.8   20.6\n",
      "   28.8   25.5   16.3 ]\n",
      " [ 35.   228.25  69.5   40.4  114.9  115.9  111.9   74.4   40.6   24.\n",
      "   36.1   31.8   18.8 ]\n",
      " [ 25.   176.    72.5   37.8   99.6   88.5   97.1   60.    39.4   23.2\n",
      "   30.5   29.    18.8 ]\n",
      " [ 28.   179.    68.    39.1  103.3   95.9  104.9   63.5   38.    22.1\n",
      "   32.5   30.3   18.4 ]\n",
      " [ 22.   173.25  72.25  38.5   93.6   83.    98.7   58.7   37.3   23.4\n",
      "   30.5   28.9   18.2 ]\n",
      " [ 48.   217.    70.    37.3  113.3  111.2  114.1   67.7   40.9   25.\n",
      "   36.7   29.8   18.4 ]\n",
      " [ 65.   224.5   68.25  38.8  119.6  118.   114.3   61.3   42.1   23.4\n",
      "   34.9   30.1   19.4 ]\n",
      " [ 35.   166.25  68.    38.5   99.1   90.4   95.6   55.5   34.2   21.9\n",
      "   30.2   28.7   17.7 ]\n",
      " [ 40.   173.25  69.5   36.5   99.5   93.    99.3   60.4   38.2   22.\n",
      "   32.    28.5   17.8 ]\n",
      " [ 29.   160.25  71.25  37.3   93.5   84.5  100.6   58.5   38.8   21.5\n",
      "   30.1   26.4   17.9 ]\n",
      " [ 55.   198.5   74.25  38.3  105.3   96.7  106.6   64.    42.6   23.4\n",
      "   33.2   30.    18.4 ]\n",
      " [ 65.   127.5   65.75  34.7   93.    79.7   87.6   50.7   33.4   20.1\n",
      "   28.5   24.8   16.5 ]\n",
      " [ 56.   167.75  68.5   37.4   98.6   93.    97.    55.4   38.8   23.2\n",
      "   32.4   29.7   19.  ]\n",
      " [ 43.   150.    69.25  35.2   91.1   85.7   96.9   55.5   35.7   22.\n",
      "   29.4   26.6   17.4 ]\n",
      " [ 48.   175.25  71.75  38.   100.7   92.4   97.5   59.3   38.1   21.8\n",
      "   31.8   27.3   17.5 ]\n",
      " [ 35.   187.75  69.5   40.5  101.3   96.4  100.1   69.    39.    23.1\n",
      "   36.1   30.5   18.2 ]\n",
      " [ 41.   210.5   72.    38.5  107.4   98.9  104.1   63.5   39.8   23.5\n",
      "   36.4   30.4   19.1 ]\n",
      " [ 42.   168.    71.5   36.5   92.    89.7  101.    62.3   38.    22.3\n",
      "   30.8   27.8   16.9 ]\n",
      " [ 40.   170.5   74.25  37.7   98.9   90.4   95.5   55.4   38.9   22.4\n",
      "   30.5   28.9   17.7 ]\n",
      " [ 62.   168.75  67.5   38.3  104.7   95.6   93.7   54.4   37.1   22.7\n",
      "   30.3   26.3   18.3 ]\n",
      " [ 55.   154.75  71.5   36.9   95.4   86.6   91.8   54.3   35.4   21.5\n",
      "   32.8   27.4   18.7 ]\n",
      " [ 72.   157.75  67.25  37.7   97.5   88.1   96.9   57.2   37.7   21.8\n",
      "   32.6   28.    18.8 ]\n",
      " [ 58.   181.5   68.    39.1  100.    99.8  102.5   62.1   39.6   22.5\n",
      "   33.1   28.3   18.5 ]\n",
      " [ 69.   177.75  68.5   38.7  102.    95.    98.3   55.    38.3   21.8\n",
      "   30.8   25.7   18.8 ]\n",
      " [ 54.   202.5   70.75  40.5  115.4  105.3   97.    59.1   38.    22.5\n",
      "   31.6   28.8   18.2 ]\n",
      " [ 28.   183.75  67.75  38.   106.8   89.6  102.4   64.2   38.7   22.9\n",
      "   37.2   30.5   18.5 ]\n",
      " [ 54.   155.25  69.25  37.5   89.3   78.4   96.1   56.    37.4   22.4\n",
      "   32.6   28.1   18.1 ]\n",
      " [ 50.   162.5   66.5   38.7   99.4   86.7   96.2   62.1   39.3   23.3\n",
      "   30.6   27.8   18.2 ]\n",
      " [ 41.   153.    69.25  36.4   91.4   80.6   92.3   54.3   36.3   21.8\n",
      "   29.6   27.3   17.9 ]\n",
      " [ 28.   182.5   72.25  37.    98.5   90.8  102.5   60.8   38.5   25.\n",
      "   31.6   28.    18.6 ]\n",
      " [ 41.   247.25  73.5   42.1  117.   115.6  116.1   71.2   43.3   26.3\n",
      "   37.3   31.7   19.7 ]\n",
      " [ 40.   167.5   71.5   39.4   89.5   83.7   98.1   57.3   39.7   22.6\n",
      "   32.9   29.3   18.2 ]\n",
      " [ 66.   234.25  72.    41.4  119.7  109.   109.1   63.7   42.4   24.6\n",
      "   35.6   30.7   19.5 ]\n",
      " [ 81.   161.25  70.25  37.8   96.4   95.4   99.3   53.5   37.5   21.5\n",
      "   31.4   26.8   18.3 ]\n",
      " [ 64.   190.25  72.75  39.3  103.1   97.8   99.6   58.9   39.    23.\n",
      "   34.3   29.6   19.  ]\n",
      " [ 31.   151.25  72.25  35.    94.    81.2   91.5   52.5   36.6   21.\n",
      "   27.    26.3   16.5 ]\n",
      " [ 43.   170.75  67.5   37.4  103.7   89.7   94.2   58.5   39.    24.1\n",
      "   33.8   28.8   18.8 ]\n",
      " [ 30.   205.25  71.25  39.4  104.1  101.8  108.6   66.    41.5   23.7\n",
      "   36.9   31.6   18.8 ]\n",
      " [ 44.   179.75  69.5   39.2  101.9   93.2  100.6   58.9   39.7   23.1\n",
      "   31.4   28.4   18.8 ]\n",
      " [ 47.   195.    72.5   40.2  102.7  101.3  101.7   60.7   39.4   23.3\n",
      "   36.7   31.6   18.4 ]\n",
      " [ 40.   159.25  69.75  35.3   92.3   86.8   96.1   58.    39.4   22.7\n",
      "   30.    26.4   17.4 ]\n",
      " [ 43.   164.25  73.25  35.7   96.6   81.5   97.2   58.4   38.2   23.4\n",
      "   29.7   27.4   18.3 ]\n",
      " [ 52.   167.    67.75  37.5  102.7   91.    98.9   57.1   36.7   22.3\n",
      "   31.6   27.5   17.9 ]\n",
      " [ 55.   146.75  68.75  38.7   88.5   82.8   95.5   58.9   37.6   21.6\n",
      "   30.3   27.3   18.3 ]\n",
      " [ 55.   125.    64.    33.2   87.7   76.    88.6   50.9   35.4   19.1\n",
      "   29.3   25.7   16.9 ]\n",
      " [ 25.   143.75  72.5   35.2   92.3   76.5   92.1   51.9   35.7   22.\n",
      "   25.8   25.2   16.9 ]\n",
      " [ 41.   202.25  72.5   40.8  109.2   98.   101.8   62.8   41.3   24.8\n",
      "   36.6   32.4   18.8 ]\n",
      " [ 43.   178.25  70.25  37.8  102.7   89.2   99.2   60.2   39.2   23.8\n",
      "   31.7   28.4   18.6 ]\n",
      " [ 50.   196.75  68.25  42.1  105.6   98.8  104.8   66.    41.5   24.7\n",
      "   33.2   30.5   19.4 ]]\n"
     ]
    },
    {
     "name": "stderr",
     "output_type": "stream",
     "text": [
      "C:\\ProgramData\\Miniconda3\\lib\\site-packages\\sklearn\\model_selection\\_split.py:2179: FutureWarning: From version 0.21, test_size will always complement train_size unless both are specified.\n",
      "  FutureWarning)\n"
     ]
    }
   ],
   "source": [
    "from sklearn.model_selection import train_test_split\n",
    "\n",
    "'''\n",
    "Se usa una función de Sklearn que también veremos más adelante en el temario\n",
    "\n",
    "El par X_train, y_train son los atributos y clases del conjunto de entrenamiento (70% de los ejemplos)\n",
    "El par X_test, y_test son los atributos y clases del conjunto de test (30% de los ejemplos)\n",
    "\n",
    "'''\n",
    "X_train, X_test, y_train, y_test = train_test_split(X, y, train_size = 0.7 )\n",
    "print(X_train)\n",
    "print(X_test)"
   ]
  },
  {
   "cell_type": "markdown",
   "metadata": {
    "colab_type": "text",
    "id": "OPU_QOorbNp1"
   },
   "source": [
    "## Esqueleto de la clase y el código que se pide\n",
    "\n",
    "\n",
    "A continuación el esqueleto de lo que se pide. El alumno usar el código posterior como referencia y completarlo más abajo en una celda de tipo código.\n",
    "\n",
    "\n",
    "```Python\n",
    "class ClasificadorKNN:\n",
    "\n",
    "    def __init__(self, k):\n",
    "        self.k = k\n",
    "    \n",
    "    def entrenar(self,X,y):\n",
    "        # completa este método\n",
    "        pass\n",
    "    \n",
    "    def predecir(self,X):        \n",
    "        valores_predichos = None\n",
    "        # completa este método\n",
    "        # valores_predichos debe de ser un array con las predicciones de cada uno de los ejemplos de X\n",
    "        \n",
    "        return valores_predichos\n",
    "    \n",
    "\n",
    "# este método está fuera de la clase. calcula el error, la diferencia media entre las predicciones y los valores reales\n",
    "def calcula_error_medio(predicciones,valores_reales):\n",
    "    \n",
    "    error = 0\n",
    "    \n",
    "    # completa este método\n",
    "    \n",
    "    return error\n",
    "    \n",
    "    \n",
    "# Crea knn con 3 vecinos    \n",
    "knn = ClasificadorKNN(3)\n",
    "# entrena con el conjunto de entrenamiento\n",
    "knn.entrenar(X_train,y_train)    \n",
    "# lo prueba con el conjunto de test\n",
    "predicciones = knn.predecir(X_test)\n",
    "\n",
    "#obtiene el error\n",
    "calcula_error_medio(predicciones,y_test)\n",
    "\n",
    "```\n",
    "\n",
    "\n",
    "\n",
    "\n",
    "Los métodos deberian tener control de errores. Por ejemplo si se usa *predecir* antes de haber invocado *entrenar* debería sacar un mensaje de error.\n",
    "\n"
   ]
  },
  {
   "cell_type": "code",
   "execution_count": 1,
   "metadata": {
    "colab": {
     "base_uri": "https://localhost:8080/",
     "height": 544
    },
    "colab_type": "code",
    "executionInfo": {
     "elapsed": 476,
     "status": "ok",
     "timestamp": 1549991780591,
     "user": {
      "displayName": "Athwulf",
      "photoUrl": "",
      "userId": "02534961995859623315"
     },
     "user_tz": -60
    },
    "id": "oRhXndxUhACR",
    "outputId": "811b964c-0f7a-47cd-ea7f-455ae9ae3bb9"
   },
   "outputs": [],
   "source": [
    "class ClasificadorKNN:\n",
    "    def __init__(self, k):\n",
    "        self.k = k\n",
    "        self.minimum = 0\n",
    "        self.maximum = 0\n",
    "        self.normalised = 0\n",
    "        self.trained = False\n",
    "\n",
    "    def entrenar(self,X,y):\n",
    "        self.minimum = X.min(axis=0)\n",
    "        self.maximum = X.max(axis=0)\n",
    "        \n",
    "        self.normalised = (X - self.minimum)/(self.maximum - self.minimum)\n",
    "        self.y = y\n",
    "        self.trained = True\n",
    "\n",
    "    def predecir(self,X):\n",
    "        if (not self.trained):\n",
    "            print(\"train first!\")\n",
    "            return None\n",
    "        if (self.k >= len(self.normalised)):\n",
    "            print(\"k >= len(x_train) choose smaller k\")\n",
    "            return None\n",
    "\n",
    "        normalisedX = (X - self.minimum)/(self.maximum - self.minimum)\n",
    "        distance = []\n",
    "        \n",
    "        #check arguments Datatype\n",
    "        datatype = None\n",
    "        if (isinstance(normalisedX, pd.core.frame.DataFrame)):\n",
    "    \n",
    "            datatype = \"panda\"\n",
    "        elif (isinstance(normalisedX, np.ndarray)):\n",
    "            datatype = \"array\"\n",
    "        else:\n",
    "            print(\"wrong datatype\")\n",
    "            return None\n",
    "        \n",
    "        #calculate distance\n",
    "        for i in range(len(normalisedX)):\n",
    "            distance.append([])\n",
    "            for j in range(len(self.normalised)):\n",
    "                if(datatype == \"panda\"):\n",
    "                    distance[i].append(sum(abs(normalisedX.iloc[i]-self.normalised.iloc[j])))\n",
    "                else:\n",
    "                    distance[i].append(sum(abs(normalisedX[i]-self.normalised[j])))\n",
    "        \n",
    "        #calculate predeictions\n",
    "        predictedValues = np.zeros(len(X))\n",
    "        for i in range(len(X)):\n",
    "            idx = np.argpartition(distance[i], self.k)\n",
    "            for j in range(self.k):\n",
    "                predictedValues[i] += self.y[idx[j]] \n",
    "            predictedValues[i] = predictedValues[i]/self.k\n",
    "              \n",
    "        return predictedValues\n",
    "\n",
    "    \n",
    "      \n",
    "    def calcula_error_medio(self, predicciones,valores_reales):\n",
    "\n",
    "        error = 0\n",
    "        for i in range(len(predicciones)):\n",
    "            error += predicciones[i] - valores_reales[i]\n",
    "        \n",
    "        return error/len(predicciones)\n",
    "      \n"
   ]
  },
  {
   "cell_type": "code",
   "execution_count": 8,
   "metadata": {},
   "outputs": [
    {
     "name": "stdout",
     "output_type": "stream",
     "text": [
      "   Altura  Edad  Peso\n",
      "0     182    27    73\n",
      "1     171    32    68\n",
      "[14.5 13.5]\n"
     ]
    }
   ],
   "source": [
    "datos_entrenamiento = pd.DataFrame(np.array([[180, 28, 75, 12], \n",
    "                            [174, 35, 69, 10], \n",
    "                            [167, 18, 67, 15],\n",
    "                            [186, 24, 88, 16],\n",
    "                            [170, 30, 72, 17]]),\n",
    "                            columns=['Altura', 'Edad', 'Peso',\"%_grasa\"])\n",
    "y = datos_entrenamiento.iloc[:,-1]\n",
    "X = datos_entrenamiento.drop(\"%_grasa\",axis=1)\n",
    "#print(y)\n",
    "#print(X)\n",
    "c = ClasificadorKNN(2)\n",
    "n = c.entrenar(X,y)\n",
    "\n",
    "xTest = pd.DataFrame(np.array([[182, 27, 73], \n",
    "                                    [171, 32, 68]]),\n",
    "                  columns=['Altura', 'Edad', 'Peso'])\n",
    "\n",
    "print(xTest)\n",
    "pred = c.predecir(xTest)\n",
    "print(pred)\n"
   ]
  },
  {
   "cell_type": "code",
   "execution_count": 9,
   "metadata": {},
   "outputs": [
    {
     "name": "stdout",
     "output_type": "stream",
     "text": [
      "[[ 65.   189.75  65.75 ...  35.9   30.5   19.1 ]\n",
      " [ 48.   176.    73.   ...  28.8   29.6   18.7 ]\n",
      " [ 61.   178.    67.   ...  33.6   29.    18.8 ]\n",
      " ...\n",
      " [ 48.   177.25  72.75 ...  29.9   28.    18.1 ]\n",
      " [ 42.   224.75  74.75 ...  33.7   29.9   18.5 ]\n",
      " [ 46.   176.75  72.5  ...  30.2   29.3   18.8 ]]\n",
      "[29.84 14.09 25.82 24.18 40.05 17.78 29.   22.69 13.05 22.15  5.21 14.88\n",
      " 12.27 20.53 18.09 18.09 10.21  9.91 17.55 14.66 27.2  21.34 16.67 25.23\n",
      " 15.18 28.03 17.69 25.82 25.32 26.01 16.1  13.74 25.32 27.15 15.23 14.09\n",
      " 19.24 23.59 19.51  7.53 23.55 16.85 10.89 22.06 33.59 19.33  3.67 12.92\n",
      " 29.79 22.78 17.42 20.31 32.64 14.18 47.49 20.49 17.25  8.97 13.87 23.14\n",
      "  7.74 11.5  26.79 12.4  10.12 13.09 27.2   6.05  7.82 25.41 25.78 14.96\n",
      " 24.87  8.04 25.46 26.01 31.38 19.55 21.47 20.85 28.72  7.11 21.29 30.21\n",
      " 22.87 24.87 10.81 16.54 12.44 31.94 21.97 19.19 14.   38.17 27.98 22.33\n",
      " 11.54 15.05 13.57 21.43 11.07 24.96 11.67 31.19  6.64 15.97 24.41 24.37\n",
      " 29.84 25.32 10.29  8.76  8.76 26.56 26.05 16.54 11.93 24.23 11.8  10.68\n",
      " 27.34 20.98 24.46 26.14 22.46 24.59 18.75  6.6  34.87 21.83 20.09  9.57\n",
      " 11.75 30.68 32.27 20.35 15.62  9.4  10.81 22.64 21.16 32.93  8.5  14.7\n",
      " 19.73  4.   21.34 29.28 16.54 15.4  19.51  6.31 16.54  7.06 29.56 20.44\n",
      " 29.42 32.93 19.24 14.79 20.13 24.64  8.33]\n",
      "[25.715 19.765 12.93  21.745 14.25  19.665 15.46  15.095 19.51  13.07\n",
      " 16.525 21.55  19.69   5.87  31.035 21.7   22.87  23.55  21.03  24.435\n",
      " 23.805 11.7   10.845 24.39  14.21  23.155 13.415 26.215 40.065 17.685\n",
      " 21.21  13.005 28.365  9.895 15.095 19.07  18.6   22.305 24.345 21.99\n",
      " 17.685 29.085 13.675 19.485 25.115 25.065 25.82  22.305  8.63  15.505\n",
      " 19.07  12.645 30.86  10.74  29.325 27.78  20.485 10.845 20.125 18.94\n",
      " 20.78  21.655 22.375 20.11  14.835 15.03   6.02   8.38  20.695 12.07\n",
      " 28.365]\n"
     ]
    }
   ],
   "source": [
    "\n",
    "\n",
    "print(X_train)\n",
    "print(y_train)\n",
    "\n",
    "# Crea knn con 3 vecinos    \n",
    "knn = ClasificadorKNN(2)\n",
    "# entrena con el conjunto de entrenamiento\n",
    "knn.entrenar(X_train,y_train)    \n",
    "# lo prueba con el conjunto de test\n",
    "#print(X_test)\n",
    "\n",
    "predicciones = knn.predecir(X_test)\n",
    "print(predicciones)"
   ]
  },
  {
   "cell_type": "markdown",
   "metadata": {
    "colab_type": "text",
    "id": "-aOcFxAkbNp3"
   },
   "source": [
    "## Pistas\n",
    "\n",
    "En el método de **entrenar** habría que:\n",
    "- Obtener el máximo, el mínimo y el rango de cada columna. (Recuerda que se pueden obtener estos valores de todos atributos a la vez)\n",
    "- Normalizar X a partir del mínimo, el máximo y el rango.\n",
    "- Almacenar X normalizado, junto con y.\n",
    "\n",
    "\n",
    "En el método de **predecir**.\n",
    "- Normalizar los ejemplos a predecir (X\\_test). Usando los máximos, minimos y rangos obtenidos en entrenar.\n",
    "- Obtener un array de distancias de cada ejemplo de X normalizado a cada ejemplo de X\\_test.\n",
    "    - La distancia se calcula sumando las diferencias en valor absoluto a cada uno de los atributos.\n",
    "- Encontrar los $k$ ejemplos con distancias menores usando **argpartition**\n",
    "- Devolver la media de valores $y$ para esos ejemplos.\n",
    "\n",
    "\n",
    "## Ejemplo de juguete.\n",
    "\n"
   ]
  },
  {
   "cell_type": "code",
   "execution_count": 18,
   "metadata": {
    "colab": {
     "base_uri": "https://localhost:8080/",
     "height": 206
    },
    "colab_type": "code",
    "executionInfo": {
     "elapsed": 515,
     "status": "ok",
     "timestamp": 1549904517962,
     "user": {
      "displayName": "Athwulf",
      "photoUrl": "",
      "userId": "02534961995859623315"
     },
     "user_tz": -60
    },
    "id": "c_EWQ4XPbNp7",
    "outputId": "5f5447a8-ba9c-4b1c-9c6d-acf25c42aaa5"
   },
   "outputs": [
    {
     "data": {
      "text/html": [
       "<div>\n",
       "<style scoped>\n",
       "    .dataframe tbody tr th:only-of-type {\n",
       "        vertical-align: middle;\n",
       "    }\n",
       "\n",
       "    .dataframe tbody tr th {\n",
       "        vertical-align: top;\n",
       "    }\n",
       "\n",
       "    .dataframe thead th {\n",
       "        text-align: right;\n",
       "    }\n",
       "</style>\n",
       "<table border=\"1\" class=\"dataframe\">\n",
       "  <thead>\n",
       "    <tr style=\"text-align: right;\">\n",
       "      <th></th>\n",
       "      <th>Altura</th>\n",
       "      <th>Edad</th>\n",
       "      <th>Peso</th>\n",
       "      <th>%_grasa</th>\n",
       "    </tr>\n",
       "  </thead>\n",
       "  <tbody>\n",
       "    <tr>\n",
       "      <th>0</th>\n",
       "      <td>180</td>\n",
       "      <td>28</td>\n",
       "      <td>75</td>\n",
       "      <td>12</td>\n",
       "    </tr>\n",
       "    <tr>\n",
       "      <th>1</th>\n",
       "      <td>174</td>\n",
       "      <td>35</td>\n",
       "      <td>69</td>\n",
       "      <td>10</td>\n",
       "    </tr>\n",
       "    <tr>\n",
       "      <th>2</th>\n",
       "      <td>167</td>\n",
       "      <td>18</td>\n",
       "      <td>67</td>\n",
       "      <td>15</td>\n",
       "    </tr>\n",
       "    <tr>\n",
       "      <th>3</th>\n",
       "      <td>186</td>\n",
       "      <td>24</td>\n",
       "      <td>88</td>\n",
       "      <td>16</td>\n",
       "    </tr>\n",
       "    <tr>\n",
       "      <th>4</th>\n",
       "      <td>170</td>\n",
       "      <td>30</td>\n",
       "      <td>72</td>\n",
       "      <td>17</td>\n",
       "    </tr>\n",
       "  </tbody>\n",
       "</table>\n",
       "</div>"
      ],
      "text/plain": [
       "   Altura  Edad  Peso  %_grasa\n",
       "0     180    28    75       12\n",
       "1     174    35    69       10\n",
       "2     167    18    67       15\n",
       "3     186    24    88       16\n",
       "4     170    30    72       17"
      ]
     },
     "execution_count": 18,
     "metadata": {},
     "output_type": "execute_result"
    }
   ],
   "source": [
    "import numpy as np\n",
    "datos_entrenamiento = pd.DataFrame(np.array([[180, 28, 75, 12], \n",
    "                            [174, 35, 69, 10], \n",
    "                            [167, 18, 67, 15],\n",
    "                            [186, 24, 88, 16],\n",
    "                            [170, 30, 72, 17]]),\n",
    "                  columns=['Altura', 'Edad', 'Peso',\"%_grasa\"])\n",
    "datos_entrenamiento"
   ]
  },
  {
   "cell_type": "markdown",
   "metadata": {
    "colab_type": "text",
    "id": "u2E055OvbNqO"
   },
   "source": [
    "X_normalizado\n",
    "\n",
    "\n",
    "|  | Altura |\t  Edad |\tPeso |\n",
    "|--|--------|---------|----------|\n",
    "|0 |\t0.684211 |\t0.588235 |\t0.380952| \n",
    "|1 |\t0.368421 |\t1.000000 |\t0.095238| \n",
    "|2 |\t0.000000 |\t0.000000 |\t0.000000| \n",
    "|3 |\t1.000000 |\t0.352941 |\t1.000000|\n",
    "|4 |\t0.157895 |\t0.705882 |\t0.238095|"
   ]
  },
  {
   "cell_type": "code",
   "execution_count": 19,
   "metadata": {
    "colab": {
     "base_uri": "https://localhost:8080/",
     "height": 112
    },
    "colab_type": "code",
    "executionInfo": {
     "elapsed": 529,
     "status": "ok",
     "timestamp": 1549904574032,
     "user": {
      "displayName": "Athwulf",
      "photoUrl": "",
      "userId": "02534961995859623315"
     },
     "user_tz": -60
    },
    "id": "maLC3n9_bNqR",
    "outputId": "b07732e0-7da5-45c5-949e-65cf8ee5f162"
   },
   "outputs": [
    {
     "data": {
      "text/html": [
       "<div>\n",
       "<style scoped>\n",
       "    .dataframe tbody tr th:only-of-type {\n",
       "        vertical-align: middle;\n",
       "    }\n",
       "\n",
       "    .dataframe tbody tr th {\n",
       "        vertical-align: top;\n",
       "    }\n",
       "\n",
       "    .dataframe thead th {\n",
       "        text-align: right;\n",
       "    }\n",
       "</style>\n",
       "<table border=\"1\" class=\"dataframe\">\n",
       "  <thead>\n",
       "    <tr style=\"text-align: right;\">\n",
       "      <th></th>\n",
       "      <th>Altura</th>\n",
       "      <th>Edad</th>\n",
       "      <th>Peso</th>\n",
       "    </tr>\n",
       "  </thead>\n",
       "  <tbody>\n",
       "    <tr>\n",
       "      <th>0</th>\n",
       "      <td>182</td>\n",
       "      <td>27</td>\n",
       "      <td>73</td>\n",
       "    </tr>\n",
       "    <tr>\n",
       "      <th>1</th>\n",
       "      <td>171</td>\n",
       "      <td>32</td>\n",
       "      <td>68</td>\n",
       "    </tr>\n",
       "  </tbody>\n",
       "</table>\n",
       "</div>"
      ],
      "text/plain": [
       "   Altura  Edad  Peso\n",
       "0     182    27    73\n",
       "1     171    32    68"
      ]
     },
     "execution_count": 19,
     "metadata": {},
     "output_type": "execute_result"
    }
   ],
   "source": [
    "#Nuevos ejemplos a predecir (X\\_test):\n",
    "\n",
    "datos_test = pd.DataFrame(np.array([[182, 27, 73], \n",
    "                                    [171, 32, 68]]),\n",
    "                  columns=['Altura', 'Edad', 'Peso'])\n",
    "datos_test"
   ]
  },
  {
   "cell_type": "markdown",
   "metadata": {
    "colab_type": "text",
    "id": "pl3qBdyebNqh"
   },
   "source": [
    "X_test normalizados:\n",
    "\n",
    "| \t|Altura| \tEdad| \tPeso|\n",
    "|---|------|--------|-------|\n",
    "|0  \t|0.789474| \t0.529412 \t|0.285714|\n",
    "|1  \t|0.210526| \t0.823529 \t|0.047619|\n",
    "\n",
    "\n",
    "Distancias del primer ejemplo de X\\_test a los ejemplos de X\\_normalizado:\n",
    "\n",
    "|ejemplo|Distancia|\n",
    "|-------|-------|\n",
    "|0    |0.259325|\n",
    "|1    |1.082117|\n",
    "|2    |1.604600|\n",
    "|3    |1.101283|\n",
    "|4    |0.855669|\n",
    "\n",
    "Para predecir la clase del primer ejemplo de X\\_test\n",
    "\n",
    "- Si k=1. Se usa el ejemplo 0 de X\\_normalizado. \n",
    "    La predicción devuelta sería 12.\n",
    "- Si k=2. Se usaría el ejemplo 0 y 4 de X\\_normalizado\n",
    "    La predicción devuelta sería la media de 12 y 17.\n",
    "- Etc"
   ]
  }
 ],
 "metadata": {
  "colab": {
   "collapsed_sections": [],
   "name": "2019_Knn.ipynb",
   "provenance": [],
   "version": "0.3.2"
  },
  "kernelspec": {
   "display_name": "Python 3",
   "language": "python",
   "name": "python3"
  },
  "language_info": {
   "codemirror_mode": {
    "name": "ipython",
    "version": 3
   },
   "file_extension": ".py",
   "mimetype": "text/x-python",
   "name": "python",
   "nbconvert_exporter": "python",
   "pygments_lexer": "ipython3",
   "version": "3.7.1"
  }
 },
 "nbformat": 4,
 "nbformat_minor": 1
}
